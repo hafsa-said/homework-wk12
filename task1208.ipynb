{
 "cells": [
  {
   "cell_type": "markdown",
   "id": "5e1dc93a",
   "metadata": {},
   "source": [
    "1. Write a lambda function to rearrange positive and negative numbers in a\n",
    "given list\n"
   ]
  },
  {
   "cell_type": "code",
   "execution_count": 53,
   "id": "ba512df3",
   "metadata": {},
   "outputs": [
    {
     "name": "stdout",
     "output_type": "stream",
     "text": [
      "[2, 4, 6, 8, 10, 12, -11, -9, -7, -5, -3, -1]\n"
     ]
    }
   ],
   "source": [
    "original_list = [-1,2,-3,4,-5,6,-7,8,-9,10,-11,12]\n",
    "\n",
    "resulting_list =list(filter(lambda x: x >= 0, original_list)) + list(sorted(filter(lambda x: x < 0, original_list)))\n",
    "\n",
    "print(resulting_list)\n"
   ]
  },
  {
   "cell_type": "markdown",
   "id": "ac84d6de",
   "metadata": {},
   "source": [
    "2. Create a new dataframe using week_11/temperatures/temperature.csv file\n",
    "from last class. It should have the datetime column and one of the cities.\n",
    "Create a new boolean column called is_freezing that indicates if the\n",
    "temperature is at or below freezing. Use a lambda to create this column. Is\n",
    "there a better way to do this than with a lambda?\n"
   ]
  },
  {
   "cell_type": "code",
   "execution_count": 71,
   "id": "b23c23a2",
   "metadata": {},
   "outputs": [
    {
     "data": {
      "text/html": [
       "<div>\n",
       "<style scoped>\n",
       "    .dataframe tbody tr th:only-of-type {\n",
       "        vertical-align: middle;\n",
       "    }\n",
       "\n",
       "    .dataframe tbody tr th {\n",
       "        vertical-align: top;\n",
       "    }\n",
       "\n",
       "    .dataframe thead th {\n",
       "        text-align: right;\n",
       "    }\n",
       "</style>\n",
       "<table border=\"1\" class=\"dataframe\">\n",
       "  <thead>\n",
       "    <tr style=\"text-align: right;\">\n",
       "      <th></th>\n",
       "      <th>Vancouver</th>\n",
       "    </tr>\n",
       "    <tr>\n",
       "      <th>datetime</th>\n",
       "      <th></th>\n",
       "    </tr>\n",
       "  </thead>\n",
       "  <tbody>\n",
       "    <tr>\n",
       "      <th>2012-10-01 12:00:00</th>\n",
       "      <td>NaN</td>\n",
       "    </tr>\n",
       "    <tr>\n",
       "      <th>2012-10-01 13:00:00</th>\n",
       "      <td>284.630000</td>\n",
       "    </tr>\n",
       "    <tr>\n",
       "      <th>2012-10-01 14:00:00</th>\n",
       "      <td>284.629041</td>\n",
       "    </tr>\n",
       "    <tr>\n",
       "      <th>2012-10-01 15:00:00</th>\n",
       "      <td>284.626998</td>\n",
       "    </tr>\n",
       "    <tr>\n",
       "      <th>2012-10-01 16:00:00</th>\n",
       "      <td>284.624955</td>\n",
       "    </tr>\n",
       "  </tbody>\n",
       "</table>\n",
       "</div>"
      ],
      "text/plain": [
       "                      Vancouver\n",
       "datetime                       \n",
       "2012-10-01 12:00:00         NaN\n",
       "2012-10-01 13:00:00  284.630000\n",
       "2012-10-01 14:00:00  284.629041\n",
       "2012-10-01 15:00:00  284.626998\n",
       "2012-10-01 16:00:00  284.624955"
      ]
     },
     "execution_count": 71,
     "metadata": {},
     "output_type": "execute_result"
    }
   ],
   "source": [
    "import pandas as pd\n",
    "df = pd.read_csv(\"temperature.csv\",parse_dates=True, index_col='datetime')\n",
    "new_df=df[['Vancouver']]\n",
    "new_df.head()"
   ]
  },
  {
   "cell_type": "code",
   "execution_count": 72,
   "id": "b382d2c7",
   "metadata": {},
   "outputs": [
    {
     "data": {
      "text/html": [
       "<div>\n",
       "<style scoped>\n",
       "    .dataframe tbody tr th:only-of-type {\n",
       "        vertical-align: middle;\n",
       "    }\n",
       "\n",
       "    .dataframe tbody tr th {\n",
       "        vertical-align: top;\n",
       "    }\n",
       "\n",
       "    .dataframe thead th {\n",
       "        text-align: right;\n",
       "    }\n",
       "</style>\n",
       "<table border=\"1\" class=\"dataframe\">\n",
       "  <thead>\n",
       "    <tr style=\"text-align: right;\">\n",
       "      <th></th>\n",
       "      <th>Vancouver</th>\n",
       "      <th>is_freezing</th>\n",
       "    </tr>\n",
       "    <tr>\n",
       "      <th>datetime</th>\n",
       "      <th></th>\n",
       "      <th></th>\n",
       "    </tr>\n",
       "  </thead>\n",
       "  <tbody>\n",
       "    <tr>\n",
       "      <th>2012-10-01 13:00:00</th>\n",
       "      <td>284.630000</td>\n",
       "      <td>False</td>\n",
       "    </tr>\n",
       "    <tr>\n",
       "      <th>2012-10-01 14:00:00</th>\n",
       "      <td>284.629041</td>\n",
       "      <td>False</td>\n",
       "    </tr>\n",
       "    <tr>\n",
       "      <th>2012-10-01 15:00:00</th>\n",
       "      <td>284.626998</td>\n",
       "      <td>False</td>\n",
       "    </tr>\n",
       "    <tr>\n",
       "      <th>2012-10-01 16:00:00</th>\n",
       "      <td>284.624955</td>\n",
       "      <td>False</td>\n",
       "    </tr>\n",
       "    <tr>\n",
       "      <th>2012-10-01 17:00:00</th>\n",
       "      <td>284.622911</td>\n",
       "      <td>False</td>\n",
       "    </tr>\n",
       "    <tr>\n",
       "      <th>...</th>\n",
       "      <td>...</td>\n",
       "      <td>...</td>\n",
       "    </tr>\n",
       "    <tr>\n",
       "      <th>2017-10-27 20:00:00</th>\n",
       "      <td>286.440000</td>\n",
       "      <td>False</td>\n",
       "    </tr>\n",
       "    <tr>\n",
       "      <th>2017-10-27 21:00:00</th>\n",
       "      <td>287.870000</td>\n",
       "      <td>False</td>\n",
       "    </tr>\n",
       "    <tr>\n",
       "      <th>2017-10-27 22:00:00</th>\n",
       "      <td>288.420000</td>\n",
       "      <td>False</td>\n",
       "    </tr>\n",
       "    <tr>\n",
       "      <th>2017-10-27 23:00:00</th>\n",
       "      <td>288.650000</td>\n",
       "      <td>False</td>\n",
       "    </tr>\n",
       "    <tr>\n",
       "      <th>2017-10-28 00:00:00</th>\n",
       "      <td>288.010000</td>\n",
       "      <td>False</td>\n",
       "    </tr>\n",
       "  </tbody>\n",
       "</table>\n",
       "<p>44458 rows × 2 columns</p>\n",
       "</div>"
      ],
      "text/plain": [
       "                      Vancouver  is_freezing\n",
       "datetime                                    \n",
       "2012-10-01 13:00:00  284.630000        False\n",
       "2012-10-01 14:00:00  284.629041        False\n",
       "2012-10-01 15:00:00  284.626998        False\n",
       "2012-10-01 16:00:00  284.624955        False\n",
       "2012-10-01 17:00:00  284.622911        False\n",
       "...                         ...          ...\n",
       "2017-10-27 20:00:00  286.440000        False\n",
       "2017-10-27 21:00:00  287.870000        False\n",
       "2017-10-27 22:00:00  288.420000        False\n",
       "2017-10-27 23:00:00  288.650000        False\n",
       "2017-10-28 00:00:00  288.010000        False\n",
       "\n",
       "[44458 rows x 2 columns]"
      ]
     },
     "execution_count": 72,
     "metadata": {},
     "output_type": "execute_result"
    }
   ],
   "source": [
    "new_df= new_df.assign(is_freezing= lambda x: x <=273.15)\n",
    "new_df.dropna(inplace= True)\n",
    "new_df"
   ]
  },
  {
   "cell_type": "code",
   "execution_count": null,
   "id": "dc57ff84",
   "metadata": {},
   "outputs": [],
   "source": []
  }
 ],
 "metadata": {
  "kernelspec": {
   "display_name": "Python 3 (ipykernel)",
   "language": "python",
   "name": "python3"
  },
  "language_info": {
   "codemirror_mode": {
    "name": "ipython",
    "version": 3
   },
   "file_extension": ".py",
   "mimetype": "text/x-python",
   "name": "python",
   "nbconvert_exporter": "python",
   "pygments_lexer": "ipython3",
   "version": "3.9.7"
  }
 },
 "nbformat": 4,
 "nbformat_minor": 5
}
